{
 "cells": [
  {
   "cell_type": "markdown",
   "id": "370512d8-7ebf-4406-b006-b73bb722cbda",
   "metadata": {},
   "source": [
    "#!/usr/bin/env python\n",
    "coding: utf-8\n",
    "# # Techniki programowania - projekt 3\n",
    "# ### Gabriel Hőft s197631\n",
    "# ### Marcin Bonin s197835\n",
    "Wykorzystane biblioteki:\n",
    "\n",
    "    -matplotplusplus (c++)\n",
    "    -pybind11\n",
    "    -scipy\n",
    "    -numpy\n",
    "    -imageio\n",
    "\n",
    "Zaimplementowane funkcjonalności:\n",
    "\n",
    "    -Wizualizacja sygnału z wykorzystaniem biblioteki matplotplusplus\n",
    "    -Generowanie sygnałów o zadanej częstotliwości (sin, cos, prostokątny, piłokształtny)\n",
    "    -Filtracja 1D\n",
    "    -Filtracja 2D"
   ]
  },
  {
   "cell_type": "markdown",
   "id": "b41c73e3-b4dd-4713-b4c0-baa975dd6aea",
   "metadata": {},
   "source": [
    "# # Wizualizacja wykresów 1D"
   ]
  },
  {
   "cell_type": "code",
   "execution_count": null,
   "id": "67747ed1-a761-4f26-8d2e-e13aec6e869d",
   "metadata": {},
   "outputs": [],
   "source": [
    "import scikit_build_example as sbe\n",
    "sbe.main()\n",
    "wizualizacja\n",
    "test-audio.wav"
   ]
  },
  {
   "cell_type": "markdown",
   "id": "c8ac2f67-5ce1-4394-a506-b229f7413da1",
   "metadata": {},
   "source": [
    "<img src=\"test_audio.png\"/>"
   ]
  },
  {
   "cell_type": "markdown",
   "id": "e5b40d60-0301-4f49-b510-c6829997499c",
   "metadata": {},
   "source": [
    "# # Generowanie sygnału sinus o zadanej częstotliwości"
   ]
  },
  {
   "cell_type": "code",
   "execution_count": null,
   "id": "dc7b0ca5-15b6-4bbd-906d-4af2217299e8",
   "metadata": {},
   "outputs": [],
   "source": [
    "import scikit_build_example as sbe\n",
    "sbe.main()\n",
    "generowanie\n",
    "sin\n",
    "3"
   ]
  },
  {
   "cell_type": "markdown",
   "id": "348163aa-ea95-43f2-860e-8d7b6aab0e9a",
   "metadata": {},
   "source": [
    "<img src=\"sin_3hz.png\"/>"
   ]
  },
  {
   "cell_type": "markdown",
   "id": "b0da2099-f456-4a62-856d-c91d9b770a92",
   "metadata": {},
   "source": [
    "# # Generowanie sygnału cosinus o zadanej częstotliwości"
   ]
  },
  {
   "cell_type": "code",
   "execution_count": null,
   "id": "18e6f222-fc60-4f29-abfa-64f80f11a0c2",
   "metadata": {},
   "outputs": [],
   "source": [
    "import scikit_build_example as sbe\n",
    "sbe.main()\n",
    "generowanie\n",
    "cos\n",
    "6"
   ]
  },
  {
   "cell_type": "markdown",
   "id": "e12e7650-b5fe-4ad0-ad6d-4444c6d325d2",
   "metadata": {},
   "source": [
    "<img src=\"cos_6hz.png\"/>"
   ]
  },
  {
   "cell_type": "markdown",
   "id": "dea9a920-dc30-4bab-a485-e9170aa33baa",
   "metadata": {},
   "source": [
    "# # Generowanie sygnału prostokątnego o zadanej częstotliwości"
   ]
  },
  {
   "cell_type": "code",
   "execution_count": null,
   "id": "81a1a16c-00a1-47de-be54-972b0551a59f",
   "metadata": {},
   "outputs": [],
   "source": [
    "import scikit_build_example as sbe\n",
    "sbe.main()\n",
    "generowanie\n",
    "prostokatny\n",
    "4"
   ]
  },
  {
   "cell_type": "markdown",
   "id": "0c5cf9d5-964a-48e6-b566-6009091d91df",
   "metadata": {},
   "source": [
    "<img src=\"pros_4hz.png\"/>"
   ]
  },
  {
   "cell_type": "markdown",
   "id": "dbb26df8-2e81-4734-aeb1-c742ccdab3fe",
   "metadata": {},
   "source": [
    "# # Generowanie sygnału piłokształtnego o zadanej częstotliwości"
   ]
  },
  {
   "cell_type": "code",
   "execution_count": null,
   "id": "32b5bcc7-c6ad-45c7-a4a5-ebe29652862e",
   "metadata": {},
   "outputs": [],
   "source": [
    "import scikit_build_example as sbe\n",
    "sbe.main()\n",
    "generowanie\n",
    "piloksztaltny\n",
    "10"
   ]
  },
  {
   "cell_type": "markdown",
   "id": "1cbd5d35-e02a-400f-b83f-7b8c78ad8bae",
   "metadata": {},
   "source": [
    "<img src=\"pilo_10hz.png\"/>"
   ]
  },
  {
   "cell_type": "markdown",
   "id": "647ada9f-4be9-40ae-be9f-78a135b308fc",
   "metadata": {},
   "source": [
    "# # Filtracja 1D"
   ]
  },
  {
   "cell_type": "code",
   "execution_count": null,
   "id": "1a3ca4ed-adfe-4e79-88c6-46d3727b2566",
   "metadata": {},
   "outputs": [],
   "source": [
    "import scikit_build_example as sbe\n",
    "sbe.main()\n",
    "filtracja1D\n",
    "test-audio.wav\n",
    "filtr1d.wav\n",
    "2"
   ]
  },
  {
   "cell_type": "markdown",
   "id": "7006552d-94c6-4432-b309-6d363d30051e",
   "metadata": {},
   "source": [
    "Przed filtracją:"
   ]
  },
  {
   "cell_type": "markdown",
   "id": "3dd07818-9962-4fbe-8788-03717590b676",
   "metadata": {},
   "source": [
    "<img src=\"test_audio.png\"/>"
   ]
  },
  {
   "cell_type": "markdown",
   "id": "c0644bd8-eac1-429f-8dbd-e352a0962d5e",
   "metadata": {},
   "source": [
    "Po filtracji:"
   ]
  },
  {
   "cell_type": "markdown",
   "id": "2566465c-50b4-4def-9380-d03fd7aad715",
   "metadata": {},
   "source": [
    "<img src=\"filtracja1d.png\"/>"
   ]
  },
  {
   "cell_type": "markdown",
   "id": "2f7c0299-bf57-4796-ae87-73fb9b5d7744",
   "metadata": {},
   "source": [
    "# # Filtracja 2D"
   ]
  },
  {
   "cell_type": "code",
   "execution_count": null,
   "id": "43f84aec-4f1a-46c5-b239-2c5e5a882125",
   "metadata": {},
   "outputs": [],
   "source": [
    "import scikit_build_example as sbe\n",
    "sbe.main()\n",
    "filtracja2D\n",
    "obraz.jpg\n",
    "filtr2d.jpg\n",
    "3"
   ]
  },
  {
   "cell_type": "markdown",
   "id": "6291d64a-bf18-4cdf-af90-85d3620b01b6",
   "metadata": {},
   "source": [
    "Przed filtracją:"
   ]
  },
  {
   "cell_type": "markdown",
   "id": "3e41d005-020b-4960-ba1a-c28fba704051",
   "metadata": {},
   "source": [
    "<img src=\"obraz.jpg\"/>"
   ]
  },
  {
   "cell_type": "markdown",
   "id": "cb68c248-077d-4d53-9b01-29d4d8bed091",
   "metadata": {},
   "source": [
    "Po filtracji:"
   ]
  },
  {
   "cell_type": "markdown",
   "id": "c55bc584-84f2-4263-aa68-27beb7f591d4",
   "metadata": {},
   "source": [
    "<img src=\"filtr2d.jpg\"/>"
   ]
  }
 ],
 "metadata": {
  "kernelspec": {
   "display_name": "Python 3 (ipykernel)",
   "language": "python",
   "name": "python3"
  },
  "language_info": {
   "codemirror_mode": {
    "name": "ipython",
    "version": 3
   },
   "file_extension": ".py",
   "mimetype": "text/x-python",
   "name": "python",
   "nbconvert_exporter": "python",
   "pygments_lexer": "ipython3",
   "version": "3.12.3"
  }
 },
 "nbformat": 4,
 "nbformat_minor": 5
}
